{
 "cells": [
  {
   "cell_type": "markdown",
   "metadata": {},
   "source": [
    "# Constructor"
   ]
  },
  {
   "cell_type": "code",
   "execution_count": 16,
   "metadata": {},
   "outputs": [],
   "source": [
    "## Basic Syntax of Constructor\n",
    "class ClassName:\n",
    "    def __init__(self, parameters):\n",
    "        pass"
   ]
  },
  {
   "cell_type": "code",
   "execution_count": 17,
   "metadata": {},
   "outputs": [
    {
     "data": {
      "text/plain": [
       "5"
      ]
     },
     "execution_count": 17,
     "metadata": {},
     "output_type": "execute_result"
    }
   ],
   "source": [
    "## A simple Constructor\n",
    "\n",
    "class Dog:\n",
    "    def __init__(self):\n",
    "        self.age = 5\n",
    "        \n",
    "dog = Dog()\n",
    "dog.age"
   ]
  },
  {
   "cell_type": "code",
   "execution_count": 18,
   "metadata": {},
   "outputs": [
    {
     "data": {
      "text/plain": [
       "5"
      ]
     },
     "execution_count": 18,
     "metadata": {},
     "output_type": "execute_result"
    }
   ],
   "source": [
    "# Constructor with Paramerters\n",
    "\n",
    "class Dog():\n",
    "    def __init__(self, age):\n",
    "        self.age = age\n",
    "        \n",
    "dog = Dog(5)\n",
    "dog.age\n"
   ]
  },
  {
   "cell_type": "code",
   "execution_count": 19,
   "metadata": {},
   "outputs": [
    {
     "name": "stdout",
     "output_type": "stream",
     "text": [
      "Constructor with out external data pass to 10 \n",
      "5\n",
      "Constructor with external data pass to 5 \n"
     ]
    }
   ],
   "source": [
    "# Constructor with default Parameters\n",
    "\n",
    "class Dog():\n",
    "    def __init__(self, age=10):\n",
    "        self.age = age\n",
    "\n",
    "# with out external data pass to class\n",
    "dog = Dog()\n",
    "print(\"Constructor with out external data pass to {0} \".format(dog.age))\n",
    "\n",
    "# with out external data pass to class\n",
    "dog = Dog(5)\n",
    "print(dog.age)\n",
    "print(\"Constructor with external data pass to {0} \".format(dog.age))\n"
   ]
  }
 ],
 "metadata": {
  "kernelspec": {
   "display_name": "Python 3",
   "language": "python",
   "name": "python3"
  },
  "language_info": {
   "codemirror_mode": {
    "name": "ipython",
    "version": 3
   },
   "file_extension": ".py",
   "mimetype": "text/x-python",
   "name": "python",
   "nbconvert_exporter": "python",
   "pygments_lexer": "ipython3",
   "version": "3.11.3"
  },
  "orig_nbformat": 4
 },
 "nbformat": 4,
 "nbformat_minor": 2
}
