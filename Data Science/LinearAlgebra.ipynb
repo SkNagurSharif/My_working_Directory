{
 "cells": [
  {
   "cell_type": "code",
   "execution_count": 2,
   "metadata": {},
   "outputs": [],
   "source": [
    "# Installing Numpy library \n",
    "# Import numpy Library\n",
    "\n",
    "import numpy as np"
   ]
  },
  {
   "cell_type": "markdown",
   "metadata": {},
   "source": [
    "## Scalar\n",
    "1. Scalars are One dimentional, primitive datatype and Single Numbers.\n",
    "2. They are Real or Complex.\n",
    "3. Scalar variables --> a,b,c,....., x,y,z\n",
    "4. For ML problems one has to use real values.\n",
    "5. 2/7 is a scalar value (2/7 --> 0.285714)\n",
    "6. 30 is a Scalar value"
   ]
  },
  {
   "cell_type": "code",
   "execution_count": 3,
   "metadata": {},
   "outputs": [
    {
     "name": "stdout",
     "output_type": "stream",
     "text": [
      "The marks achieved are : 99\n"
     ]
    }
   ],
   "source": [
    "# Scalar\n",
    "marks = 99\n",
    "print(\"The marks achieved are :\",marks)\n"
   ]
  },
  {
   "cell_type": "markdown",
   "metadata": {},
   "source": []
  },
  {
   "cell_type": "markdown",
   "metadata": {},
   "source": [
    "## Vector\n",
    "1. Ordered list of numbers or primitive data types.\n",
    "2. It is an ordered collection of data.\n",
    "3. One can perform Addition, Subtraction, Scalar multiplication, Transpose, Inverse and measure how two vectors align\n",
    "4. The result of dot product of two vectors --> Scalar.\n",
    "5. Vector can never have negatibve magnitude.\n",
    "6. The number of Scalars in a vector --> Dimension\n",
    "7. Vector contains two dimentional array or list.\n",
    "8. A vector V has dimension of (m,n)\n",
    "    Where, \n",
    "    m = number of rows\n",
    "    n = number of columns\n",
    "9. Transpose of V have (n,m) dimension or shape.\n",
    "10. Column vector --> m rows and 1 column \n",
    "                 --> shape is (m,1)\n",
    "11. Row vector --> 1 row and n columns\n",
    "                 --> shape is (1,n)\n",
    "12. Zero Vector --> A vector which contains each element as Zero --> z = [0,0,0]\n",
    "13. One Vector --> A vector which contains each element as One --> o = [1,1,1]\n",
    "14. The Magnitude of vector is |V| = $\\sqrt{(V1)^2 +(V2)^2 +(V3)^2+ ...... + (Vn)^2}$"
   ]
  },
  {
   "cell_type": "code",
   "execution_count": 14,
   "metadata": {},
   "outputs": [
    {
     "name": "stdout",
     "output_type": "stream",
     "text": [
      "The Output is correct and it is [9, 7, 5]\n"
     ]
    },
    {
     "ename": "AssertionError",
     "evalue": "vectors must be the same length",
     "output_type": "error",
     "traceback": [
      "\u001b[1;31m---------------------------------------------------------------------------\u001b[0m",
      "\u001b[1;31mAssertionError\u001b[0m                            Traceback (most recent call last)",
      "\u001b[1;32md:\\naguroutlookGithub\\My_working_Directory\\Data Science\\LinearAlgebra.ipynb Cell 6\u001b[0m line \u001b[0;36m1\n\u001b[0;32m     <a href='vscode-notebook-cell:/d%3A/naguroutlookGithub/My_working_Directory/Data%20Science/LinearAlgebra.ipynb#X15sZmlsZQ%3D%3D?line=13'>14</a>\u001b[0m \u001b[39mprint\u001b[39m(\u001b[39mf\u001b[39m\u001b[39m\"\u001b[39m\u001b[39mThe Output is correct and it is \u001b[39m\u001b[39m{\u001b[39;00mv3\u001b[39m}\u001b[39;00m\u001b[39m\"\u001b[39m)\n\u001b[0;32m     <a href='vscode-notebook-cell:/d%3A/naguroutlookGithub/My_working_Directory/Data%20Science/LinearAlgebra.ipynb#X15sZmlsZQ%3D%3D?line=15'>16</a>\u001b[0m v4 \u001b[39m=\u001b[39m [\u001b[39m10\u001b[39m, \u001b[39m7\u001b[39m, \u001b[39m5\u001b[39m]\n\u001b[1;32m---> <a href='vscode-notebook-cell:/d%3A/naguroutlookGithub/My_working_Directory/Data%20Science/LinearAlgebra.ipynb#X15sZmlsZQ%3D%3D?line=16'>17</a>\u001b[0m \u001b[39massert\u001b[39;00m add([\u001b[39m3\u001b[39;49m, \u001b[39m1\u001b[39;49m], [\u001b[39m6\u001b[39;49m, \u001b[39m5\u001b[39;49m, \u001b[39m4\u001b[39;49m]) \u001b[39m==\u001b[39m v4\n",
      "\u001b[1;32md:\\naguroutlookGithub\\My_working_Directory\\Data Science\\LinearAlgebra.ipynb Cell 6\u001b[0m line \u001b[0;36m9\n\u001b[0;32m      <a href='vscode-notebook-cell:/d%3A/naguroutlookGithub/My_working_Directory/Data%20Science/LinearAlgebra.ipynb#X15sZmlsZQ%3D%3D?line=6'>7</a>\u001b[0m \u001b[39mdef\u001b[39;00m \u001b[39madd\u001b[39m(v1, v2) \u001b[39m-\u001b[39m\u001b[39m>\u001b[39m vectorize:\n\u001b[0;32m      <a href='vscode-notebook-cell:/d%3A/naguroutlookGithub/My_working_Directory/Data%20Science/LinearAlgebra.ipynb#X15sZmlsZQ%3D%3D?line=7'>8</a>\u001b[0m \u001b[39m    \u001b[39m\u001b[39m\"\"\"Adds corresponding elements\"\"\"\u001b[39;00m\n\u001b[1;32m----> <a href='vscode-notebook-cell:/d%3A/naguroutlookGithub/My_working_Directory/Data%20Science/LinearAlgebra.ipynb#X15sZmlsZQ%3D%3D?line=8'>9</a>\u001b[0m     \u001b[39massert\u001b[39;00m \u001b[39mlen\u001b[39m(v1) \u001b[39m==\u001b[39m \u001b[39mlen\u001b[39m(v2), \u001b[39m\"\u001b[39m\u001b[39mvectors must be the same length\u001b[39m\u001b[39m\"\u001b[39m\n\u001b[0;32m     <a href='vscode-notebook-cell:/d%3A/naguroutlookGithub/My_working_Directory/Data%20Science/LinearAlgebra.ipynb#X15sZmlsZQ%3D%3D?line=9'>10</a>\u001b[0m     \u001b[39mreturn\u001b[39;00m [v1_i \u001b[39m+\u001b[39m v2_i \u001b[39mfor\u001b[39;00m v1_i, v2_i \u001b[39min\u001b[39;00m \u001b[39mzip\u001b[39m(v1, v2)]\n",
      "\u001b[1;31mAssertionError\u001b[0m: vectors must be the same length"
     ]
    }
   ],
   "source": [
    "# Vector Sum\n",
    "# 1st Vector is \"v1\"\n",
    "# 2nd Vector is \"v2\"\n",
    "\n",
    "from numpy import vectorize\n",
    "\n",
    "def add(v1, v2) -> vectorize:\n",
    "    \"\"\"Adds corresponding elements\"\"\"\n",
    "    assert len(v1) == len(v2), \"vectors must be the same length\"\n",
    "    return [v1_i + v2_i for v1_i, v2_i in zip(v1, v2)]\n",
    "\n",
    "v3 = [9, 7, 5]\n",
    "assert add([3, 2, 1], [6, 5, 4]) == v3\n",
    "print(f\"The Output is correct and it is {v3}\")\n",
    "\n",
    "v4 = [10, 7, 5]\n",
    "assert add([3, 1], [6, 5, 4]) == v4\n"
   ]
  },
  {
   "cell_type": "code",
   "execution_count": 19,
   "metadata": {},
   "outputs": [
    {
     "name": "stdout",
     "output_type": "stream",
     "text": [
      "The Vector output is [15, 21]\n"
     ]
    }
   ],
   "source": [
    "# Vectors : List[vectors]\n",
    "\n",
    "def vector_sum(vectors):\n",
    "    \"\"\"Sums all corresponding elements\"\"\"\n",
    "    # Check that vectors is not empty\n",
    "    assert vectors, \"no vectors provided!\"\n",
    "    # Check the vectors are all the same size\n",
    "    num_elements = len(vectors[0])\n",
    "    assert all(len(v) == num_elements for v in vectors), \"different sizes!\"\n",
    "    # the i-th element of the result is the sum of every vector[i]\n",
    "    return [sum(vector[i] for vector in vectors)\n",
    "        for i in range(num_elements)]\n",
    "vector = [15, 21]\n",
    "if vector_sum([[1, 3], [2, 4], [5, 8], [7, 6]]) == vector:\n",
    "    print(f\"The Vector output is {vector}\")\n"
   ]
  },
  {
   "cell_type": "code",
   "execution_count": 8,
   "metadata": {},
   "outputs": [
    {
     "name": "stdout",
     "output_type": "stream",
     "text": [
      " The Column Vector is \n",
      " [[ 4 -2  6]\n",
      " [ 1  4 -3]\n",
      " [ 2  8 -5]]\n"
     ]
    }
   ],
   "source": [
    "# Transpose of V have (n,m) dimension or shape.\n",
    "\n",
    "trans = np.array([[4,1,2],[-2,4,8],[6,-3,-5]])\n",
    "\n",
    "print(\" The Column Vector is \\n\", np.transpose(trans))"
   ]
  },
  {
   "cell_type": "code",
   "execution_count": 5,
   "metadata": {},
   "outputs": [
    {
     "name": "stdout",
     "output_type": "stream",
     "text": [
      " The Column Vector is \n",
      " [[ 4]\n",
      " [-2]\n",
      " [ 6]]\n",
      " The Shape of the column Vector is  (3, 1)\n"
     ]
    }
   ],
   "source": [
    "#10. Column vector --> m rows and 1 column \n",
    "#                --> shape is (m,1)\n",
    "\n",
    "col_vec = np.array([[4],[-2],[6]])\n",
    "\n",
    "print(\" The Column Vector is \\n\", col_vec)\n",
    "\n",
    "# The shape of the column vector\n",
    "print(\" The Shape of the column Vector is \",col_vec.shape)"
   ]
  },
  {
   "cell_type": "code",
   "execution_count": null,
   "metadata": {},
   "outputs": [],
   "source": [
    "#11. Row vector --> 1 row and n columns\n",
    "#                 --> shape is (1,n)\n",
    "\n",
    "row_vec = np.array([4,-2,6])\n",
    "\n",
    "print(\" The Column Vector is \\n\", row_vec)\n",
    "\n",
    "# The shape of the column vector\n",
    "print(\" The Shape of the column Vector is \",row_vec.shape)"
   ]
  },
  {
   "cell_type": "code",
   "execution_count": null,
   "metadata": {},
   "outputs": [],
   "source": [
    "# Zero Vector"
   ]
  },
  {
   "cell_type": "code",
   "execution_count": null,
   "metadata": {},
   "outputs": [],
   "source": [
    "# One Vector"
   ]
  },
  {
   "cell_type": "code",
   "execution_count": null,
   "metadata": {},
   "outputs": [],
   "source": [
    "# Magnitude"
   ]
  },
  {
   "cell_type": "markdown",
   "metadata": {},
   "source": [
    "# Transpose"
   ]
  }
 ],
 "metadata": {
  "kernelspec": {
   "display_name": "Python 3",
   "language": "python",
   "name": "python3"
  },
  "language_info": {
   "codemirror_mode": {
    "name": "ipython",
    "version": 3
   },
   "file_extension": ".py",
   "mimetype": "text/x-python",
   "name": "python",
   "nbconvert_exporter": "python",
   "pygments_lexer": "ipython3",
   "version": "3.11.3"
  },
  "orig_nbformat": 4
 },
 "nbformat": 4,
 "nbformat_minor": 2
}
