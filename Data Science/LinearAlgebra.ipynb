{
 "cells": [
  {
   "cell_type": "code",
   "execution_count": 2,
   "metadata": {},
   "outputs": [],
   "source": [
    "# Installing Numpy library \n",
    "# Import numpy Library\n",
    "\n",
    "import numpy as np"
   ]
  },
  {
   "cell_type": "markdown",
   "metadata": {},
   "source": [
    "## Scalar\n",
    "1. Scalars are One dimentional, primitive datatype and Single Numbers.\n",
    "2. They are Real or Complex.\n",
    "3. Scalar variables --> a,b,c,....., x,y,z\n",
    "4. For ML problems one has to use real values.\n",
    "5. 2/7 is a scalar value (2/7 --> 0.285714)\n",
    "6. 30 is a Scalar value"
   ]
  },
  {
   "cell_type": "code",
   "execution_count": 3,
   "metadata": {},
   "outputs": [
    {
     "name": "stdout",
     "output_type": "stream",
     "text": [
      "The marks achieved are : 99\n"
     ]
    }
   ],
   "source": [
    "# Scalar\n",
    "marks = 99\n",
    "print(\"The marks achieved are :\",marks)\n"
   ]
  },
  {
   "cell_type": "markdown",
   "metadata": {},
   "source": [
    "## Vector\n",
    "1. Ordered list of numbers or primitive data types.\n",
    "2. It is an ordered collection of data.\n",
    "3. One can perform Addition, Subtraction, Scalar multiplication, Transpose, Inverse and measure how two vectors align\n",
    "4. The result of dot product of two vectors --> Scalar.\n",
    "5. Vector can never have negatibve magnitude.\n",
    "6. The number of Scalars in a vector --> Dimension\n",
    "7. Vector contains two dimentional array or list.\n",
    "8. A vector V has dimension of (m,n)\n",
    "    Where, \n",
    "    m = number of rows\n",
    "    n = number of columns\n",
    "9. Transpose of V have (n,m) dimension or shape.\n",
    "10. Column vector --> m rows and 1 column \n",
    "                 --> shape is (m,1)\n",
    "11. Row vector --> 1 row and n columns\n",
    "                 --> shape is (1,n)\n",
    "12. Zero Vector --> A vector which contains each element as Zero --> z = [0,0,0]\n",
    "13. One Vector --> A vector which contains each element as One --> o = [1,1,1]\n",
    "14. The Magnitude of vector is |V| = $\\sqrt{(V1)^2 +(V2)^2 +(V3)^2+ ...... + (Vn)^2}$"
   ]
  },
  {
   "cell_type": "code",
   "execution_count": 8,
   "metadata": {},
   "outputs": [
    {
     "name": "stdout",
     "output_type": "stream",
     "text": [
      " The Column Vector is \n",
      " [[ 4 -2  6]\n",
      " [ 1  4 -3]\n",
      " [ 2  8 -5]]\n"
     ]
    }
   ],
   "source": [
    "# Transpose of V have (n,m) dimension or shape.\n",
    "\n",
    "trans = np.array([[4,1,2],[-2,4,8],[6,-3,-5]])\n",
    "\n",
    "print(\" The Column Vector is \\n\", np.transpose(trans))"
   ]
  },
  {
   "cell_type": "code",
   "execution_count": 5,
   "metadata": {},
   "outputs": [
    {
     "name": "stdout",
     "output_type": "stream",
     "text": [
      " The Column Vector is \n",
      " [[ 4]\n",
      " [-2]\n",
      " [ 6]]\n",
      " The Shape of the column Vector is  (3, 1)\n"
     ]
    }
   ],
   "source": [
    "#10. Column vector --> m rows and 1 column \n",
    "#                --> shape is (m,1)\n",
    "\n",
    "col_vec = np.array([[4],[-2],[6]])\n",
    "\n",
    "print(\" The Column Vector is \\n\", col_vec)\n",
    "\n",
    "# The shape of the column vector\n",
    "print(\" The Shape of the column Vector is \",col_vec.shape)"
   ]
  },
  {
   "cell_type": "code",
   "execution_count": null,
   "metadata": {},
   "outputs": [],
   "source": [
    "#11. Row vector --> 1 row and n columns\n",
    "#                 --> shape is (1,n)\n",
    "\n",
    "row_vec = np.array([4,-2,6])\n",
    "\n",
    "print(\" The Column Vector is \\n\", row_vec)\n",
    "\n",
    "# The shape of the column vector\n",
    "print(\" The Shape of the column Vector is \",row_vec.shape)"
   ]
  },
  {
   "cell_type": "code",
   "execution_count": null,
   "metadata": {},
   "outputs": [],
   "source": [
    "# Zero Vector"
   ]
  },
  {
   "cell_type": "code",
   "execution_count": null,
   "metadata": {},
   "outputs": [],
   "source": [
    "# One Vector"
   ]
  },
  {
   "cell_type": "code",
   "execution_count": null,
   "metadata": {},
   "outputs": [],
   "source": [
    "# Magnitude"
   ]
  },
  {
   "cell_type": "markdown",
   "metadata": {},
   "source": [
    "# Transpose"
   ]
  }
 ],
 "metadata": {
  "kernelspec": {
   "display_name": "Python 3",
   "language": "python",
   "name": "python3"
  },
  "language_info": {
   "codemirror_mode": {
    "name": "ipython",
    "version": 3
   },
   "file_extension": ".py",
   "mimetype": "text/x-python",
   "name": "python",
   "nbconvert_exporter": "python",
   "pygments_lexer": "ipython3",
   "version": "3.11.3"
  },
  "orig_nbformat": 4
 },
 "nbformat": 4,
 "nbformat_minor": 2
}
